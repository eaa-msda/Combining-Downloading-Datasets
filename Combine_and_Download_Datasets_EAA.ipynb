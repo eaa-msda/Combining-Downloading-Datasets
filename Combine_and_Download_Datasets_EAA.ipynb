{
  "nbformat": 4,
  "nbformat_minor": 0,
  "metadata": {
    "colab": {
      "provenance": []
    },
    "kernelspec": {
      "name": "python3",
      "display_name": "Python 3"
    },
    "language_info": {
      "name": "python"
    }
  },
  "cells": [
    {
      "cell_type": "code",
      "execution_count": null,
      "metadata": {
        "id": "morX1punbVJZ"
      },
      "outputs": [],
      "source": [
        "# Errol Ian Ave Acosta\n",
        "# Combine & Download Datasets\n",
        "# June 25, 2025\n"
      ]
    },
    {
      "cell_type": "code",
      "source": [
        "# Manually upload datasets (Google Colab) #python"
      ],
      "metadata": {
        "id": "AlcnUkr5boHS"
      },
      "execution_count": null,
      "outputs": []
    },
    {
      "cell_type": "code",
      "source": [
        "# ✅ STEP 1: Import pandas\n",
        "import pandas as pd\n",
        "\n",
        "# ✅ STEP 2: Load the CSV files from the specified paths\n",
        "ecom_df = pd.read_csv(\"/content/ECommerce_Shipping_Data.csv\")\n",
        "fmcg_df = pd.read_csv(\"/content/FMCG_data.csv\")\n",
        "\n",
        "# ✅ STEP 3: Add prefixes to avoid column name collisions\n",
        "ecom_df_prefixed = ecom_df.add_prefix(\"ecom_\")\n",
        "fmcg_df_prefixed = fmcg_df.add_prefix(\"fmcg_\")\n",
        "\n",
        "# ✅ STEP 4: Merge the two DataFrames row-by-row (must be same length)\n",
        "merged_df = pd.concat([ecom_df_prefixed, fmcg_df_prefixed], axis=1)\n",
        "\n",
        "# ✅ STEP 5: Save the merged file\n",
        "output_path = \"/content/ecom_fmcg_merged_for_datarobot.csv\"\n",
        "merged_df.to_csv(output_path, index=False)\n",
        "\n",
        "# ✅ STEP 6: If you want to download it to your local machine\n",
        "from google.colab import files\n",
        "files.download(output_path)\n"
      ],
      "metadata": {
        "colab": {
          "base_uri": "https://localhost:8080/",
          "height": 17
        },
        "id": "Dfk-GEA9bzi-",
        "outputId": "52a16674-9553-49e2-ac35-50235cb3e0a5"
      },
      "execution_count": 2,
      "outputs": [
        {
          "output_type": "display_data",
          "data": {
            "text/plain": [
              "<IPython.core.display.Javascript object>"
            ],
            "application/javascript": [
              "\n",
              "    async function download(id, filename, size) {\n",
              "      if (!google.colab.kernel.accessAllowed) {\n",
              "        return;\n",
              "      }\n",
              "      const div = document.createElement('div');\n",
              "      const label = document.createElement('label');\n",
              "      label.textContent = `Downloading \"${filename}\": `;\n",
              "      div.appendChild(label);\n",
              "      const progress = document.createElement('progress');\n",
              "      progress.max = size;\n",
              "      div.appendChild(progress);\n",
              "      document.body.appendChild(div);\n",
              "\n",
              "      const buffers = [];\n",
              "      let downloaded = 0;\n",
              "\n",
              "      const channel = await google.colab.kernel.comms.open(id);\n",
              "      // Send a message to notify the kernel that we're ready.\n",
              "      channel.send({})\n",
              "\n",
              "      for await (const message of channel.messages) {\n",
              "        // Send a message to notify the kernel that we're ready.\n",
              "        channel.send({})\n",
              "        if (message.buffers) {\n",
              "          for (const buffer of message.buffers) {\n",
              "            buffers.push(buffer);\n",
              "            downloaded += buffer.byteLength;\n",
              "            progress.value = downloaded;\n",
              "          }\n",
              "        }\n",
              "      }\n",
              "      const blob = new Blob(buffers, {type: 'application/binary'});\n",
              "      const a = document.createElement('a');\n",
              "      a.href = window.URL.createObjectURL(blob);\n",
              "      a.download = filename;\n",
              "      div.appendChild(a);\n",
              "      a.click();\n",
              "      div.remove();\n",
              "    }\n",
              "  "
            ]
          },
          "metadata": {}
        },
        {
          "output_type": "display_data",
          "data": {
            "text/plain": [
              "<IPython.core.display.Javascript object>"
            ],
            "application/javascript": [
              "download(\"download_f2bccbcc-a382-4a14-8bd3-bbffb6cd7023\", \"ecom_fmcg_merged_for_datarobot.csv\", 3403352)"
            ]
          },
          "metadata": {}
        }
      ]
    }
  ]
}